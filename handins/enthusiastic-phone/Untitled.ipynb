{
 "cells": [
  {
   "cell_type": "code",
   "execution_count": 14,
   "metadata": {
    "collapsed": false
   },
   "outputs": [
    {
     "name": "stdout",
     "output_type": "stream",
     "text": [
      "Index(['HDI Rank', 'Country', 'Human Development Index (HDI)',\n",
      "       'Life Expectancy at Birth', 'Expected Years of Education',\n",
      "       'Mean Years of Education', 'Gross National Income (GNI) per Capita',\n",
      "       'GNI per Capita Rank Minus HDI Rank'],\n",
      "      dtype='object')\n",
      "Index(['Official Name of Satellite', 'Country/Organization of UN Registry',\n",
      "       'Operator/Owner', 'Country of Operator/Owner', 'Users', 'Purpose',\n",
      "       'Detailed Purpose', 'Class of Orbit', 'Type of Orbit',\n",
      "       'Longitude of Geosynchronous Orbit (Degrees)', 'Perigee (Kilometers)',\n",
      "       'Apogee (Kilometers)', 'Eccentricity', 'Inclination (Degrees)',\n",
      "       'Period (Minutes)', 'Launch Mass (Kilograms)', 'Dry Mass (Kilograms)',\n",
      "       'Power (Watts)', 'Date of Launch', 'Expected Lifetime (Years)',\n",
      "       'Contractor', 'Country of Contractor', 'Launch Site', 'Launch Vehicle',\n",
      "       'COSPAR Number', 'NORAD Number'],\n",
      "      dtype='object')\n"
     ]
    }
   ],
   "source": [
    "import webget\n",
    "import pandas as pd\n",
    "#import numpy as np\n",
    "\n",
    "#hdi_url = 'https://raw.githubusercontent.com/stinaanita/python_data/master/human_development.csv'\n",
    "#sat_url = 'https://raw.githubusercontent.com/stinaanita/python_data/master/database.csv'\n",
    "\n",
    "hdi_file = 'dataset/hdi_data.csv'\n",
    "his_file = 'dataset/historical_hdi.csv'\n",
    "sat_file = 'dataset/sat_data.csv'\n",
    "\n",
    "#webget.download(hdi_url, hdi_file)\n",
    "#webget.download(sat_url, sat_file)\n",
    "\n",
    "hdi_data = pd.read_csv(hdi_file)\n",
    "sat_data = pd.read_csv(sat_file)\n",
    "his_data = pd.read_csv(his_file)\n",
    "\n",
    "#hdi_np = hdi_data.as_matrix()\n",
    "#sat_np = sat_data.as_matrix()\n",
    "\n",
    "print(hdi_data.columns)\n",
    "print(sat_data.columns)\n"
   ]
  },
  {
   "cell_type": "code",
   "execution_count": 145,
   "metadata": {
    "collapsed": false
   },
   "outputs": [
    {
     "name": "stdout",
     "output_type": "stream",
     "text": [
      "0    Norway\n",
      "Name: Country, dtype: object\n",
      "187    Niger\n",
      "Name: Country, dtype: object\n"
     ]
    }
   ],
   "source": [
    "\n",
    "hi_mask = (hdi_data['Human Development Index (HDI)']==max(hdi_data['Human Development Index (HDI)']))\n",
    "lo_mask = (hdi_data['Human Development Index (HDI)']==min(hdi_data['Human Development Index (HDI)']))\n",
    "print(hdi_data[hi_mask]['Country'])\n",
    "print(hdi_data[lo_mask]['Country'])\n"
   ]
  },
  {
   "cell_type": "code",
   "execution_count": 132,
   "metadata": {
    "collapsed": false
   },
   "outputs": [
    {
     "name": "stdout",
     "output_type": "stream",
     "text": [
      "USA                                  147\n",
      "Russia                                84\n",
      "China                                 58\n",
      "Israel                                11\n",
      "France                                 8\n",
      "United Kingdom                         8\n",
      "Germany                                7\n",
      "Italy                                  6\n",
      "Spain                                  4\n",
      "India                                  4\n",
      "United Arab Emirates                   2\n",
      "France/Italy/Belgium/Spain/Greece      2\n",
      "France/Italy                           2\n",
      "Mexico                                 1\n",
      "Canada                                 1\n",
      "Australia                              1\n",
      "Brazil                                 1\n",
      "South Korea                            1\n",
      "Chile                                  1\n",
      "Turkey                                 1\n",
      "Taiwan                                 1\n",
      "South Africa                           1\n",
      "Name: Country of Operator/Owner, dtype: int64\n"
     ]
    },
    {
     "name": "stderr",
     "output_type": "stream",
     "text": [
      "c:\\users\\michael\\appdata\\local\\programs\\python\\python36-32\\lib\\site-packages\\pandas\\core\\frame.py:2842: SettingWithCopyWarning: \n",
      "A value is trying to be set on a copy of a slice from a DataFrame\n",
      "\n",
      "See the caveats in the documentation: http://pandas.pydata.org/pandas-docs/stable/indexing.html#indexing-view-versus-copy\n",
      "  downcast=downcast, **kwargs)\n"
     ]
    }
   ],
   "source": [
    "mil_sat_cols = ['Country of Operator/Owner', 'Users']\n",
    "\n",
    "# make smaller dataframe to work on\n",
    "mil_sat_df = sat_data[mil_sat_cols]\n",
    "# replace NaN values with string 'N/A'\n",
    "mil_sat_df.fillna('N/A', inplace=True)\n",
    "\n",
    "prefix = 'Mil'\n",
    "# make dataframe mask where 'Users' contain prefix\n",
    "mil_users_mask = mil_sat_df['Users'].str.contains('Mil') \n",
    "#apply mask to dataframe\n",
    "mil_users = mil_sat_df[mil_users_mask]\n",
    "# print the count\n",
    "print(mil_users[mil_sat_cols[0]].value_counts())"
   ]
  },
  {
   "cell_type": "code",
   "execution_count": 153,
   "metadata": {
    "collapsed": false
   },
   "outputs": [
    {
     "ename": "ValueError",
     "evalue": "Unable to parse string \"2,316 (BOL)\" at position 0",
     "output_type": "error",
     "traceback": [
      "\u001b[0;31m---------------------------------------------------------------------------\u001b[0m",
      "\u001b[0;31mValueError\u001b[0m                                Traceback (most recent call last)",
      "\u001b[0;32mpandas\\src\\inference.pyx\u001b[0m in \u001b[0;36mpandas.lib.maybe_convert_numeric (pandas\\lib.c:55708)\u001b[0;34m()\u001b[0m\n",
      "\u001b[0;31mValueError\u001b[0m: Unable to parse string \"2,316 (BOL)\"",
      "\nDuring handling of the above exception, another exception occurred:\n",
      "\u001b[0;31mValueError\u001b[0m                                Traceback (most recent call last)",
      "\u001b[0;32m<ipython-input-153-ba2f0e467212>\u001b[0m in \u001b[0;36m<module>\u001b[0;34m()\u001b[0m\n\u001b[1;32m      2\u001b[0m \u001b[1;33m\u001b[0m\u001b[0m\n\u001b[1;32m      3\u001b[0m \u001b[0msat_weight_df\u001b[0m \u001b[1;33m=\u001b[0m \u001b[0msat_data\u001b[0m\u001b[1;33m[\u001b[0m\u001b[0msat_weight_mask\u001b[0m\u001b[1;33m]\u001b[0m\u001b[1;33m\u001b[0m\u001b[0m\n\u001b[0;32m----> 4\u001b[0;31m \u001b[0msat_weight_df\u001b[0m\u001b[1;33m[\u001b[0m\u001b[1;34m'Dry Mass (Kilograms)'\u001b[0m\u001b[1;33m]\u001b[0m \u001b[1;33m=\u001b[0m \u001b[0msat_weight_df\u001b[0m\u001b[1;33m[\u001b[0m\u001b[1;34m'Dry Mass (Kilograms)'\u001b[0m\u001b[1;33m]\u001b[0m\u001b[1;33m.\u001b[0m\u001b[0mapply\u001b[0m\u001b[1;33m(\u001b[0m\u001b[0mpd\u001b[0m\u001b[1;33m.\u001b[0m\u001b[0mto_numeric\u001b[0m\u001b[1;33m)\u001b[0m\u001b[1;33m\u001b[0m\u001b[0m\n\u001b[0m\u001b[1;32m      5\u001b[0m \u001b[1;33m\u001b[0m\u001b[0m\n\u001b[1;32m      6\u001b[0m \u001b[1;33m\u001b[0m\u001b[0m\n",
      "\u001b[0;32mc:\\users\\michael\\appdata\\local\\programs\\python\\python36-32\\lib\\site-packages\\pandas\\core\\series.py\u001b[0m in \u001b[0;36mapply\u001b[0;34m(self, func, convert_dtype, args, **kwds)\u001b[0m\n\u001b[1;32m   2292\u001b[0m             \u001b[1;32melse\u001b[0m\u001b[1;33m:\u001b[0m\u001b[1;33m\u001b[0m\u001b[0m\n\u001b[1;32m   2293\u001b[0m                 \u001b[0mvalues\u001b[0m \u001b[1;33m=\u001b[0m \u001b[0mself\u001b[0m\u001b[1;33m.\u001b[0m\u001b[0masobject\u001b[0m\u001b[1;33m\u001b[0m\u001b[0m\n\u001b[0;32m-> 2294\u001b[0;31m                 \u001b[0mmapped\u001b[0m \u001b[1;33m=\u001b[0m \u001b[0mlib\u001b[0m\u001b[1;33m.\u001b[0m\u001b[0mmap_infer\u001b[0m\u001b[1;33m(\u001b[0m\u001b[0mvalues\u001b[0m\u001b[1;33m,\u001b[0m \u001b[0mf\u001b[0m\u001b[1;33m,\u001b[0m \u001b[0mconvert\u001b[0m\u001b[1;33m=\u001b[0m\u001b[0mconvert_dtype\u001b[0m\u001b[1;33m)\u001b[0m\u001b[1;33m\u001b[0m\u001b[0m\n\u001b[0m\u001b[1;32m   2295\u001b[0m \u001b[1;33m\u001b[0m\u001b[0m\n\u001b[1;32m   2296\u001b[0m         \u001b[1;32mif\u001b[0m \u001b[0mlen\u001b[0m\u001b[1;33m(\u001b[0m\u001b[0mmapped\u001b[0m\u001b[1;33m)\u001b[0m \u001b[1;32mand\u001b[0m \u001b[0misinstance\u001b[0m\u001b[1;33m(\u001b[0m\u001b[0mmapped\u001b[0m\u001b[1;33m[\u001b[0m\u001b[1;36m0\u001b[0m\u001b[1;33m]\u001b[0m\u001b[1;33m,\u001b[0m \u001b[0mSeries\u001b[0m\u001b[1;33m)\u001b[0m\u001b[1;33m:\u001b[0m\u001b[1;33m\u001b[0m\u001b[0m\n",
      "\u001b[0;32mpandas\\src\\inference.pyx\u001b[0m in \u001b[0;36mpandas.lib.map_infer (pandas\\lib.c:66124)\u001b[0;34m()\u001b[0m\n",
      "\u001b[0;32mc:\\users\\michael\\appdata\\local\\programs\\python\\python36-32\\lib\\site-packages\\pandas\\tools\\util.py\u001b[0m in \u001b[0;36mto_numeric\u001b[0;34m(arg, errors, downcast)\u001b[0m\n\u001b[1;32m    193\u001b[0m             \u001b[0mcoerce_numeric\u001b[0m \u001b[1;33m=\u001b[0m \u001b[1;32mFalse\u001b[0m \u001b[1;32mif\u001b[0m \u001b[0merrors\u001b[0m \u001b[1;32min\u001b[0m \u001b[1;33m(\u001b[0m\u001b[1;34m'ignore'\u001b[0m\u001b[1;33m,\u001b[0m \u001b[1;34m'raise'\u001b[0m\u001b[1;33m)\u001b[0m \u001b[1;32melse\u001b[0m \u001b[1;32mTrue\u001b[0m\u001b[1;33m\u001b[0m\u001b[0m\n\u001b[1;32m    194\u001b[0m             values = lib.maybe_convert_numeric(values, set(),\n\u001b[0;32m--> 195\u001b[0;31m                                                coerce_numeric=coerce_numeric)\n\u001b[0m\u001b[1;32m    196\u001b[0m \u001b[1;33m\u001b[0m\u001b[0m\n\u001b[1;32m    197\u001b[0m     \u001b[1;32mexcept\u001b[0m \u001b[0mException\u001b[0m\u001b[1;33m:\u001b[0m\u001b[1;33m\u001b[0m\u001b[0m\n",
      "\u001b[0;32mpandas\\src\\inference.pyx\u001b[0m in \u001b[0;36mpandas.lib.maybe_convert_numeric (pandas\\lib.c:56097)\u001b[0;34m()\u001b[0m\n",
      "\u001b[0;31mValueError\u001b[0m: Unable to parse string \"2,316 (BOL)\" at position 0"
     ]
    }
   ],
   "source": [
    "sat_weight_mask = ['Country of Operator/Owner', 'Dry Mass (Kilograms)']\n",
    "\n",
    "sat_weight_df = sat_data[sat_weight_mask]\n",
    "sat_weight_df['Dry Mass (Kilograms)'] = sat_weight_df['Dry Mass (Kilograms)'].apply(pd.to_numeric)\n",
    "\n",
    "\n",
    "print(sat_weight_df.head)\n",
    "idx = sat_weight_df.loc(max(sat_weight_df['Dry Mass (Kilograms)']))\n",
    "print(idx)"
   ]
  }
 ],
 "metadata": {
  "kernelspec": {
   "display_name": "Python 3",
   "language": "python",
   "name": "python3"
  },
  "language_info": {
   "codemirror_mode": {
    "name": "ipython",
    "version": 3
   },
   "file_extension": ".py",
   "mimetype": "text/x-python",
   "name": "python",
   "nbconvert_exporter": "python",
   "pygments_lexer": "ipython3",
   "version": "3.6.0"
  }
 },
 "nbformat": 4,
 "nbformat_minor": 2
}
