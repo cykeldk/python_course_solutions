{
 "cells": [
  {
   "cell_type": "code",
   "execution_count": 53,
   "metadata": {
    "collapsed": false,
    "deletable": true,
    "editable": true
   },
   "outputs": [],
   "source": [
    "import webget\n",
    "import pandas as pd\n",
    "import numpy as np\n",
    "import matplotlib\n",
    "import math\n",
    "\n",
    "#hdi_url = 'https://raw.githubusercontent.com/stinaanita/python_data/master/human_development.csv'\n",
    "#sat_url = 'https://raw.githubusercontent.com/stinaanita/python_data/master/database.csv'\n",
    "\n",
    "hdi_file = 'dataset/hdi_data.csv'\n",
    "his_file = 'dataset/historical_hdi.csv'\n",
    "sat_file = 'dataset/sat_data.csv'\n",
    "\n",
    "#webget.download(hdi_url, hdi_file)\n",
    "#webget.download(sat_url, sat_file)\n",
    "\n",
    "hdi_data = pd.read_csv(hdi_file)\n",
    "sat_data = pd.read_csv(sat_file)\n",
    "his_data = pd.read_csv(his_file)\n",
    "\n",
    "#hdi_np = hdi_data.as_matrix()\n",
    "#sat_np = sat_data.as_matrix()\n",
    "\n",
    "#print(hdi_data.columns)\n",
    "#print(sat_data.columns)\n"
   ]
  },
  {
   "cell_type": "code",
   "execution_count": 145,
   "metadata": {
    "collapsed": false,
    "deletable": true,
    "editable": true
   },
   "outputs": [
    {
     "name": "stdout",
     "output_type": "stream",
     "text": [
      "0    Norway\n",
      "Name: Country, dtype: object\n",
      "187    Niger\n",
      "Name: Country, dtype: object\n"
     ]
    }
   ],
   "source": [
    "\n",
    "hi_mask = (hdi_data['Human Development Index (HDI)']==max(hdi_data['Human Development Index (HDI)']))\n",
    "lo_mask = (hdi_data['Human Development Index (HDI)']==min(hdi_data['Human Development Index (HDI)']))\n",
    "print(hdi_data[hi_mask]['Country'])\n",
    "print(hdi_data[lo_mask]['Country'])\n"
   ]
  },
  {
   "cell_type": "code",
   "execution_count": 36,
   "metadata": {
    "collapsed": false,
    "deletable": true,
    "editable": true
   },
   "outputs": [
    {
     "name": "stdout",
     "output_type": "stream",
     "text": [
      "USA                                  147\n",
      "Russia                                84\n",
      "China                                 58\n",
      "Israel                                11\n",
      "France                                 8\n",
      "United Kingdom                         8\n",
      "Germany                                7\n",
      "Italy                                  6\n",
      "Spain                                  4\n",
      "India                                  4\n",
      "France/Italy/Belgium/Spain/Greece      2\n",
      "France/Italy                           2\n",
      "United Arab Emirates                   2\n",
      "South Korea                            1\n",
      "Australia                              1\n",
      "Brazil                                 1\n",
      "Turkey                                 1\n",
      "Mexico                                 1\n",
      "Canada                                 1\n",
      "South Africa                           1\n",
      "Taiwan                                 1\n",
      "Chile                                  1\n",
      "Name: Country of Operator/Owner, dtype: int64\n"
     ]
    },
    {
     "name": "stderr",
     "output_type": "stream",
     "text": [
      "/home/mulle/.local/lib/python3.5/site-packages/pandas/core/frame.py:2842: SettingWithCopyWarning: \n",
      "A value is trying to be set on a copy of a slice from a DataFrame\n",
      "\n",
      "See the caveats in the documentation: http://pandas.pydata.org/pandas-docs/stable/indexing.html#indexing-view-versus-copy\n",
      "  downcast=downcast, **kwargs)\n"
     ]
    }
   ],
   "source": [
    "mil_sat_cols = ['Country of Operator/Owner', 'Users']\n",
    "\n",
    "# make smaller dataframe to work on\n",
    "mil_sat_df = sat_data[mil_sat_cols]\n",
    "# replace NaN values with string 'N/A'\n",
    "mil_sat_df.fillna('N/A', inplace=True)\n",
    "\n",
    "prefix = 'Mil'\n",
    "# make dataframe mask where 'Users' contain prefix\n",
    "mil_users_mask = mil_sat_df['Users'].str.contains('Mil') \n",
    "#apply mask to dataframe\n",
    "mil_users = mil_sat_df[mil_users_mask]\n",
    "# print the count\n",
    "print(mil_users[mil_sat_cols[0]].value_counts())"
   ]
  },
  {
   "cell_type": "code",
   "execution_count": 84,
   "metadata": {
    "collapsed": false,
    "deletable": true,
    "editable": true
   },
   "outputs": [
    {
     "name": "stdout",
     "output_type": "stream",
     "text": [
      "    Country of Operator/Owner  Dry Mass (Kilograms)\n",
      "217                     Japan                   1.0\n"
     ]
    },
    {
     "name": "stderr",
     "output_type": "stream",
     "text": [
      "/home/mulle/.local/lib/python3.5/site-packages/ipykernel/__main__.py:5: SettingWithCopyWarning: \n",
      "A value is trying to be set on a copy of a slice from a DataFrame.\n",
      "Try using .loc[row_indexer,col_indexer] = value instead\n",
      "\n",
      "See the caveats in the documentation: http://pandas.pydata.org/pandas-docs/stable/indexing.html#indexing-view-versus-copy\n"
     ]
    }
   ],
   "source": [
    "sat_weight_cols = ['Country of Operator/Owner', 'Dry Mass (Kilograms)']\n",
    "\n",
    "sat_weight_df = sat_data[sat_weight_cols]\n",
    "# print(type(sat_weight_df))\n",
    "sat_weight_df['Dry Mass (Kilograms)'] = pd.to_numeric(sat_weight_df['Dry Mass (Kilograms)'], errors='coerce')\n",
    "\n",
    "# print('np.nan=',np.nan,type(np.nan))\n",
    "\n",
    "nan_mask = (sat_weight_df['Dry Mass (Kilograms)']>=0)\n",
    "\n",
    "no_nan = sat_weight_df[nan_mask]\n",
    "\n",
    "low_val = min(no_nan['Dry Mass (Kilograms)'])\n",
    "low_cou = no_nan.loc[:,'Dry Mass (Kilograms)']==low_val\n",
    "# print('lowest:',lowest)\n",
    "# no_nan = [item, item2 for item in sat_weight_df['Dry Mass (Kilograms)'] if not math.isnan(item)]\n",
    "print(no_nan[low_cou])\n",
    "\n",
    "# print(without_nan)"
   ]
  }
 ],
 "metadata": {
  "kernelspec": {
   "display_name": "Python 3",
   "language": "python",
   "name": "python3"
  },
  "language_info": {
   "codemirror_mode": {
    "name": "ipython",
    "version": 3
   },
   "file_extension": ".py",
   "mimetype": "text/x-python",
   "name": "python",
   "nbconvert_exporter": "python",
   "pygments_lexer": "ipython3",
   "version": "3.5.2"
  }
 },
 "nbformat": 4,
 "nbformat_minor": 2
}
