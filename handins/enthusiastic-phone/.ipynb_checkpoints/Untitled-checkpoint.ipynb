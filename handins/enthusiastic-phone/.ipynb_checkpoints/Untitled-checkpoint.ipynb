{
 "cells": [
  {
   "cell_type": "code",
   "execution_count": 14,
   "metadata": {
    "collapsed": false
   },
   "outputs": [
    {
     "name": "stdout",
     "output_type": "stream",
     "text": [
      "Index(['HDI Rank', 'Country', 'Human Development Index (HDI)',\n",
      "       'Life Expectancy at Birth', 'Expected Years of Education',\n",
      "       'Mean Years of Education', 'Gross National Income (GNI) per Capita',\n",
      "       'GNI per Capita Rank Minus HDI Rank'],\n",
      "      dtype='object')\n",
      "Index(['Official Name of Satellite', 'Country/Organization of UN Registry',\n",
      "       'Operator/Owner', 'Country of Operator/Owner', 'Users', 'Purpose',\n",
      "       'Detailed Purpose', 'Class of Orbit', 'Type of Orbit',\n",
      "       'Longitude of Geosynchronous Orbit (Degrees)', 'Perigee (Kilometers)',\n",
      "       'Apogee (Kilometers)', 'Eccentricity', 'Inclination (Degrees)',\n",
      "       'Period (Minutes)', 'Launch Mass (Kilograms)', 'Dry Mass (Kilograms)',\n",
      "       'Power (Watts)', 'Date of Launch', 'Expected Lifetime (Years)',\n",
      "       'Contractor', 'Country of Contractor', 'Launch Site', 'Launch Vehicle',\n",
      "       'COSPAR Number', 'NORAD Number'],\n",
      "      dtype='object')\n"
     ]
    }
   ],
   "source": [
    "import webget\n",
    "import pandas as pd\n",
    "#import numpy as np\n",
    "\n",
    "hdi_url = 'https://raw.githubusercontent.com/stinaanita/python_data/master/human_development.csv'\n",
    "sat_url = 'https://raw.githubusercontent.com/stinaanita/python_data/master/database.csv'\n",
    "\n",
    "hdi_file = 'dataset/hdi_data.csv'\n",
    "sat_file = 'dataset/sat_data.csv'\n",
    "\n",
    "#webget.download(hdi_url, hdi_file)\n",
    "#webget.download(sat_url, sat_file)\n",
    "\n",
    "hdi_data = pd.read_csv(hdi_file)\n",
    "sat_data = pd.read_csv(sat_file)\n",
    "\n",
    "#hdi_np = hdi_data.as_matrix()\n",
    "#sat_np = sat_data.as_matrix()\n",
    "\n",
    "print(hdi_data.columns)\n",
    "print(sat_data.columns)\n"
   ]
  },
  {
   "cell_type": "code",
   "execution_count": 44,
   "metadata": {
    "collapsed": false
   },
   "outputs": [
    {
     "name": "stdout",
     "output_type": "stream",
     "text": [
      "<class 'pandas.core.frame.DataFrame'>\n",
      "Communications                                    699\n",
      "Earth Observation                                 355\n",
      "Technology Development                            154\n",
      "Navigation/Global Positioning                      97\n",
      "Space Science                                      62\n",
      "Earth Science                                       9\n",
      "Communications/Technology Development               8\n",
      "Navigation/Regional Positioning                     8\n",
      "Technology Demonstration                            6\n",
      "Space Observation                                   5\n",
      "Earth Observation/Technology Development            5\n",
      "Communications/Maritime Tracking                    5\n",
      "Earth Observation/Communications                    2\n",
      "Communications/Navigation                           1\n",
      "Earth Observation/Research                          1\n",
      "Earth Observation/Communications/Space Science      1\n",
      "Earth/Space Science                                 1\n",
      "Name: Purpose, dtype: int64\n",
      "Optical Imaging                                          158\n",
      "Electronic Intelligence                                   47\n",
      "Earth Science                                             43\n",
      "Radar Imaging                                             34\n",
      "Automatic Identification System (AIS)                     22\n",
      "Earth Science/Meterology                                  16\n",
      "Meteorology                                               15\n",
      "Infrared Imaging                                           9\n",
      "Data Relay                                                 5\n",
      "Meteorology, Automatic Identification System (AIS)         4\n",
      "Optical Imaging/Meterology                                 3\n",
      "Imaging                                                    2\n",
      "Amateur Radio                                              2\n",
      "Optical Imaging (video)                                    2\n",
      "Meteorology/Earth Science                                  2\n",
      "Early Warning                                              1\n",
      "Optical Imaging/Infrared Imaging                           1\n",
      "Technology Development                                     1\n",
      "Optical Imaging/Automatic Identification System (AIS)      1\n",
      "Optical Imaging/Meteorology                                1\n",
      "Name: Detailed Purpose, dtype: int64\n"
     ]
    }
   ],
   "source": [
    "mil_sat_cols = ['Country of Operator/Owner', 'Purpose']\n",
    "print(type(sat_data))\n",
    "mil_sat_df = sat_data[mil_sat_cols] # returns new reduced dataframe\n",
    "print(mil_sat_df['Purpose'].value_counts())\n",
    "print(sat_data['Detailed Purpose'].value_counts())\n",
    "print(sat_data['Detailed Purpose'].unique())\n"
   ]
  },
  {
   "cell_type": "code",
   "execution_count": null,
   "metadata": {
    "collapsed": true
   },
   "outputs": [],
   "source": []
  }
 ],
 "metadata": {
  "kernelspec": {
   "display_name": "Python 3",
   "language": "python",
   "name": "python3"
  },
  "language_info": {
   "codemirror_mode": {
    "name": "ipython",
    "version": 3
   },
   "file_extension": ".py",
   "mimetype": "text/x-python",
   "name": "python",
   "nbconvert_exporter": "python",
   "pygments_lexer": "ipython3",
   "version": "3.6.0"
  }
 },
 "nbformat": 4,
 "nbformat_minor": 2
}
