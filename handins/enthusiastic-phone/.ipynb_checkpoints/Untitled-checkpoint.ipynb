{
 "cells": [
  {
   "cell_type": "code",
   "execution_count": 14,
   "metadata": {
    "collapsed": false
   },
   "outputs": [
    {
     "name": "stdout",
     "output_type": "stream",
     "text": [
      "Index(['HDI Rank', 'Country', 'Human Development Index (HDI)',\n",
      "       'Life Expectancy at Birth', 'Expected Years of Education',\n",
      "       'Mean Years of Education', 'Gross National Income (GNI) per Capita',\n",
      "       'GNI per Capita Rank Minus HDI Rank'],\n",
      "      dtype='object')\n",
      "Index(['Official Name of Satellite', 'Country/Organization of UN Registry',\n",
      "       'Operator/Owner', 'Country of Operator/Owner', 'Users', 'Purpose',\n",
      "       'Detailed Purpose', 'Class of Orbit', 'Type of Orbit',\n",
      "       'Longitude of Geosynchronous Orbit (Degrees)', 'Perigee (Kilometers)',\n",
      "       'Apogee (Kilometers)', 'Eccentricity', 'Inclination (Degrees)',\n",
      "       'Period (Minutes)', 'Launch Mass (Kilograms)', 'Dry Mass (Kilograms)',\n",
      "       'Power (Watts)', 'Date of Launch', 'Expected Lifetime (Years)',\n",
      "       'Contractor', 'Country of Contractor', 'Launch Site', 'Launch Vehicle',\n",
      "       'COSPAR Number', 'NORAD Number'],\n",
      "      dtype='object')\n"
     ]
    }
   ],
   "source": [
    "import webget\n",
    "import pandas as pd\n",
    "#import numpy as np\n",
    "\n",
    "#hdi_url = 'https://raw.githubusercontent.com/stinaanita/python_data/master/human_development.csv'\n",
    "#sat_url = 'https://raw.githubusercontent.com/stinaanita/python_data/master/database.csv'\n",
    "\n",
    "hdi_file = 'dataset/hdi_data.csv'\n",
    "sat_file = 'dataset/sat_data.csv'\n",
    "\n",
    "#webget.download(hdi_url, hdi_file)\n",
    "#webget.download(sat_url, sat_file)\n",
    "\n",
    "hdi_data = pd.read_csv(hdi_file)\n",
    "sat_data = pd.read_csv(sat_file)\n",
    "\n",
    "#hdi_np = hdi_data.as_matrix()\n",
    "#sat_np = sat_data.as_matrix()\n",
    "\n",
    "print(hdi_data.columns)\n",
    "print(sat_data.columns)\n"
   ]
  },
  {
   "cell_type": "code",
   "execution_count": 142,
   "metadata": {
    "collapsed": false
   },
   "outputs": [
    {
     "name": "stdout",
     "output_type": "stream",
     "text": [
      "0    Norway\n",
      "Name: Country, dtype: object\n"
     ]
    }
   ],
   "source": [
    "max_hdi = max(hdi_data['Human Development Index (HDI)'])\n",
    "hi_mask = (hdi_data['Human Development Index (HDI)']==max(hdi_data['Human Development Index (HDI)']))\n",
    "lo_mask = (hdi_data['Human Development Index (HDI)']==min(hdi_data['Human Development Index (HDI)']))\n",
    "print(hdi_data[hi_mask]['Country'])\n",
    "print(hdi_data[lo_mask]['Country'])\n"
   ]
  },
  {
   "cell_type": "code",
   "execution_count": 132,
   "metadata": {
    "collapsed": false
   },
   "outputs": [
    {
     "name": "stdout",
     "output_type": "stream",
     "text": [
      "USA                                  147\n",
      "Russia                                84\n",
      "China                                 58\n",
      "Israel                                11\n",
      "France                                 8\n",
      "United Kingdom                         8\n",
      "Germany                                7\n",
      "Italy                                  6\n",
      "Spain                                  4\n",
      "India                                  4\n",
      "United Arab Emirates                   2\n",
      "France/Italy/Belgium/Spain/Greece      2\n",
      "France/Italy                           2\n",
      "Mexico                                 1\n",
      "Canada                                 1\n",
      "Australia                              1\n",
      "Brazil                                 1\n",
      "South Korea                            1\n",
      "Chile                                  1\n",
      "Turkey                                 1\n",
      "Taiwan                                 1\n",
      "South Africa                           1\n",
      "Name: Country of Operator/Owner, dtype: int64\n"
     ]
    },
    {
     "name": "stderr",
     "output_type": "stream",
     "text": [
      "c:\\users\\michael\\appdata\\local\\programs\\python\\python36-32\\lib\\site-packages\\pandas\\core\\frame.py:2842: SettingWithCopyWarning: \n",
      "A value is trying to be set on a copy of a slice from a DataFrame\n",
      "\n",
      "See the caveats in the documentation: http://pandas.pydata.org/pandas-docs/stable/indexing.html#indexing-view-versus-copy\n",
      "  downcast=downcast, **kwargs)\n"
     ]
    }
   ],
   "source": [
    "mil_sat_cols = ['Country of Operator/Owner', 'Users']\n",
    "\n",
    "# make smaller dataframe to work on\n",
    "mil_sat_df = sat_data[mil_sat_cols]\n",
    "# replace NaN values with string 'N/A'\n",
    "mil_sat_df.fillna('N/A', inplace=True)\n",
    "\n",
    "prefix = 'Mil'\n",
    "# make dataframe mask where 'Users' contain prefix\n",
    "mil_users_mask = mil_sat_df['Users'].str.contains('Mil') \n",
    "#apply mask to dataframe\n",
    "mil_users = mil_sat_df[mil_users_mask]\n",
    "# print the count\n",
    "print(mil_users[mil_sat_cols[0]].value_counts())"
   ]
  },
  {
   "cell_type": "code",
   "execution_count": null,
   "metadata": {
    "collapsed": true
   },
   "outputs": [],
   "source": []
  }
 ],
 "metadata": {
  "kernelspec": {
   "display_name": "Python 3",
   "language": "python",
   "name": "python3"
  },
  "language_info": {
   "codemirror_mode": {
    "name": "ipython",
    "version": 3
   },
   "file_extension": ".py",
   "mimetype": "text/x-python",
   "name": "python",
   "nbconvert_exporter": "python",
   "pygments_lexer": "ipython3",
   "version": "3.6.0"
  }
 },
 "nbformat": 4,
 "nbformat_minor": 2
}
